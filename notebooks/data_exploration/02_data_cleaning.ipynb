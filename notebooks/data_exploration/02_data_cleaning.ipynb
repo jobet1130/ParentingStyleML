{
 "cells": [
  {
   "cell_type": "code",
   "execution_count": 9,
   "id": "f0d40180",
   "metadata": {},
   "outputs": [],
   "source": [
    "import pandas as pd\n",
    "df = pd.read_csv('../../data/raw/parenting_styles.csv')"
   ]
  },
  {
   "cell_type": "code",
   "execution_count": 10,
   "id": "b66e0a93",
   "metadata": {},
   "outputs": [
    {
     "data": {
      "application/vnd.microsoft.datawrangler.viewer.v0+json": {
       "columns": [
        {
         "name": "index",
         "rawType": "object",
         "type": "string"
        },
        {
         "name": "0",
         "rawType": "int64",
         "type": "integer"
        }
       ],
       "ref": "6a449eda-f8c7-49fa-b515-511886a6eb15",
       "rows": [
        [
         "parent_id",
         "0"
        ],
        [
         "parenting_style",
         "0"
        ],
        [
         "child_mental_health",
         "0"
        ],
        [
         "communication_skills",
         "0"
        ],
        [
         "emotional_wellbeing",
         "0"
        ],
        [
         "social_skills",
         "0"
        ],
        [
         "academic_performance",
         "0"
        ],
        [
         "parent_involvement",
         "0"
        ]
       ],
       "shape": {
        "columns": 1,
        "rows": 8
       }
      },
      "text/plain": [
       "parent_id               0\n",
       "parenting_style         0\n",
       "child_mental_health     0\n",
       "communication_skills    0\n",
       "emotional_wellbeing     0\n",
       "social_skills           0\n",
       "academic_performance    0\n",
       "parent_involvement      0\n",
       "dtype: int64"
      ]
     },
     "execution_count": 10,
     "metadata": {},
     "output_type": "execute_result"
    }
   ],
   "source": [
    "df.isnull().sum()"
   ]
  },
  {
   "cell_type": "code",
   "execution_count": 11,
   "id": "ae972798",
   "metadata": {},
   "outputs": [],
   "source": [
    "df['communication_skills'] = df['communication_skills'].fillna(df['communication_skills'].mean())\n",
    "df['emotional_wellbeing'] = df['emotional_wellbeing'].fillna(df['emotional_wellbeing'].mean())\n",
    "df['social_skills'] = df['social_skills'].fillna(df['social_skills'].mean())\n",
    "df['academic_performance'] = df['academic_performance'].fillna(df['academic_performance'].mean())\n",
    "df['parent_involvement'] = df['parent_involvement'].fillna(df['parent_involvement'].mean())\n",
    "df['parenting_style'] = df['parenting_style'].fillna(df['parenting_style'].mode()[0])"
   ]
  },
  {
   "cell_type": "code",
   "execution_count": 12,
   "id": "9a8c3a3e",
   "metadata": {},
   "outputs": [
    {
     "data": {
      "text/plain": [
       "0"
      ]
     },
     "execution_count": 12,
     "metadata": {},
     "output_type": "execute_result"
    }
   ],
   "source": [
    "df.duplicated().sum()"
   ]
  },
  {
   "cell_type": "code",
   "execution_count": 13,
   "id": "47c121fa",
   "metadata": {},
   "outputs": [],
   "source": [
    "df = df.drop_duplicates()"
   ]
  },
  {
   "cell_type": "code",
   "execution_count": 14,
   "id": "653cfcc0",
   "metadata": {},
   "outputs": [],
   "source": [
    "df = df.drop(columns=['irrelevant_column1', 'irrelevant_column2'], errors='ignore')"
   ]
  },
  {
   "cell_type": "code",
   "execution_count": 15,
   "id": "a343ca25",
   "metadata": {},
   "outputs": [],
   "source": [
    "df['parent_id'] = df['parent_id'].astype('int')"
   ]
  },
  {
   "cell_type": "code",
   "execution_count": 16,
   "id": "bce2d374",
   "metadata": {},
   "outputs": [
    {
     "data": {
      "application/vnd.microsoft.datawrangler.viewer.v0+json": {
       "columns": [
        {
         "name": "index",
         "rawType": "object",
         "type": "string"
        },
        {
         "name": "parent_id",
         "rawType": "float64",
         "type": "float"
        },
        {
         "name": "child_mental_health",
         "rawType": "float64",
         "type": "float"
        },
        {
         "name": "communication_skills",
         "rawType": "float64",
         "type": "float"
        },
        {
         "name": "emotional_wellbeing",
         "rawType": "float64",
         "type": "float"
        },
        {
         "name": "social_skills",
         "rawType": "float64",
         "type": "float"
        },
        {
         "name": "academic_performance",
         "rawType": "float64",
         "type": "float"
        },
        {
         "name": "parent_involvement",
         "rawType": "float64",
         "type": "float"
        }
       ],
       "ref": "3eb22f66-1da0-41d7-b5fa-77af94683d04",
       "rows": [
        [
         "count",
         "50000.0",
         "50000.0",
         "50000.0",
         "50000.0",
         "50000.0",
         "50000.0",
         "50000.0"
        ],
        [
         "mean",
         "25000.5",
         "59.51926",
         "69.47914",
         "69.54106",
         "69.57074",
         "69.46092",
         "69.44148"
        ],
        [
         "std",
         "14433.90106658626",
         "17.267937707955916",
         "11.550959845565387",
         "11.553447265611826",
         "11.574316184911645",
         "11.558743220803821",
         "11.557667887742054"
        ],
        [
         "min",
         "1.0",
         "30.0",
         "50.0",
         "50.0",
         "50.0",
         "50.0",
         "50.0"
        ],
        [
         "25%",
         "12500.75",
         "45.0",
         "60.0",
         "60.0",
         "60.0",
         "59.0",
         "59.0"
        ],
        [
         "50%",
         "25000.5",
         "59.0",
         "69.0",
         "69.0",
         "70.0",
         "69.0",
         "69.0"
        ],
        [
         "75%",
         "37500.25",
         "74.0",
         "80.0",
         "80.0",
         "80.0",
         "79.0",
         "79.0"
        ],
        [
         "max",
         "50000.0",
         "89.0",
         "89.0",
         "89.0",
         "89.0",
         "89.0",
         "89.0"
        ]
       ],
       "shape": {
        "columns": 7,
        "rows": 8
       }
      },
      "text/html": [
       "<div>\n",
       "<style scoped>\n",
       "    .dataframe tbody tr th:only-of-type {\n",
       "        vertical-align: middle;\n",
       "    }\n",
       "\n",
       "    .dataframe tbody tr th {\n",
       "        vertical-align: top;\n",
       "    }\n",
       "\n",
       "    .dataframe thead th {\n",
       "        text-align: right;\n",
       "    }\n",
       "</style>\n",
       "<table border=\"1\" class=\"dataframe\">\n",
       "  <thead>\n",
       "    <tr style=\"text-align: right;\">\n",
       "      <th></th>\n",
       "      <th>parent_id</th>\n",
       "      <th>child_mental_health</th>\n",
       "      <th>communication_skills</th>\n",
       "      <th>emotional_wellbeing</th>\n",
       "      <th>social_skills</th>\n",
       "      <th>academic_performance</th>\n",
       "      <th>parent_involvement</th>\n",
       "    </tr>\n",
       "  </thead>\n",
       "  <tbody>\n",
       "    <tr>\n",
       "      <th>count</th>\n",
       "      <td>50000.000000</td>\n",
       "      <td>50000.000000</td>\n",
       "      <td>50000.00000</td>\n",
       "      <td>50000.000000</td>\n",
       "      <td>50000.000000</td>\n",
       "      <td>50000.000000</td>\n",
       "      <td>50000.000000</td>\n",
       "    </tr>\n",
       "    <tr>\n",
       "      <th>mean</th>\n",
       "      <td>25000.500000</td>\n",
       "      <td>59.519260</td>\n",
       "      <td>69.47914</td>\n",
       "      <td>69.541060</td>\n",
       "      <td>69.570740</td>\n",
       "      <td>69.460920</td>\n",
       "      <td>69.441480</td>\n",
       "    </tr>\n",
       "    <tr>\n",
       "      <th>std</th>\n",
       "      <td>14433.901067</td>\n",
       "      <td>17.267938</td>\n",
       "      <td>11.55096</td>\n",
       "      <td>11.553447</td>\n",
       "      <td>11.574316</td>\n",
       "      <td>11.558743</td>\n",
       "      <td>11.557668</td>\n",
       "    </tr>\n",
       "    <tr>\n",
       "      <th>min</th>\n",
       "      <td>1.000000</td>\n",
       "      <td>30.000000</td>\n",
       "      <td>50.00000</td>\n",
       "      <td>50.000000</td>\n",
       "      <td>50.000000</td>\n",
       "      <td>50.000000</td>\n",
       "      <td>50.000000</td>\n",
       "    </tr>\n",
       "    <tr>\n",
       "      <th>25%</th>\n",
       "      <td>12500.750000</td>\n",
       "      <td>45.000000</td>\n",
       "      <td>60.00000</td>\n",
       "      <td>60.000000</td>\n",
       "      <td>60.000000</td>\n",
       "      <td>59.000000</td>\n",
       "      <td>59.000000</td>\n",
       "    </tr>\n",
       "    <tr>\n",
       "      <th>50%</th>\n",
       "      <td>25000.500000</td>\n",
       "      <td>59.000000</td>\n",
       "      <td>69.00000</td>\n",
       "      <td>69.000000</td>\n",
       "      <td>70.000000</td>\n",
       "      <td>69.000000</td>\n",
       "      <td>69.000000</td>\n",
       "    </tr>\n",
       "    <tr>\n",
       "      <th>75%</th>\n",
       "      <td>37500.250000</td>\n",
       "      <td>74.000000</td>\n",
       "      <td>80.00000</td>\n",
       "      <td>80.000000</td>\n",
       "      <td>80.000000</td>\n",
       "      <td>79.000000</td>\n",
       "      <td>79.000000</td>\n",
       "    </tr>\n",
       "    <tr>\n",
       "      <th>max</th>\n",
       "      <td>50000.000000</td>\n",
       "      <td>89.000000</td>\n",
       "      <td>89.00000</td>\n",
       "      <td>89.000000</td>\n",
       "      <td>89.000000</td>\n",
       "      <td>89.000000</td>\n",
       "      <td>89.000000</td>\n",
       "    </tr>\n",
       "  </tbody>\n",
       "</table>\n",
       "</div>"
      ],
      "text/plain": [
       "          parent_id  child_mental_health  communication_skills  \\\n",
       "count  50000.000000         50000.000000           50000.00000   \n",
       "mean   25000.500000            59.519260              69.47914   \n",
       "std    14433.901067            17.267938              11.55096   \n",
       "min        1.000000            30.000000              50.00000   \n",
       "25%    12500.750000            45.000000              60.00000   \n",
       "50%    25000.500000            59.000000              69.00000   \n",
       "75%    37500.250000            74.000000              80.00000   \n",
       "max    50000.000000            89.000000              89.00000   \n",
       "\n",
       "       emotional_wellbeing  social_skills  academic_performance  \\\n",
       "count         50000.000000   50000.000000          50000.000000   \n",
       "mean             69.541060      69.570740             69.460920   \n",
       "std              11.553447      11.574316             11.558743   \n",
       "min              50.000000      50.000000             50.000000   \n",
       "25%              60.000000      60.000000             59.000000   \n",
       "50%              69.000000      70.000000             69.000000   \n",
       "75%              80.000000      80.000000             79.000000   \n",
       "max              89.000000      89.000000             89.000000   \n",
       "\n",
       "       parent_involvement  \n",
       "count        50000.000000  \n",
       "mean            69.441480  \n",
       "std             11.557668  \n",
       "min             50.000000  \n",
       "25%             59.000000  \n",
       "50%             69.000000  \n",
       "75%             79.000000  \n",
       "max             89.000000  "
      ]
     },
     "execution_count": 16,
     "metadata": {},
     "output_type": "execute_result"
    }
   ],
   "source": [
    "df.describe()"
   ]
  },
  {
   "cell_type": "code",
   "execution_count": 17,
   "id": "e9771dc2",
   "metadata": {},
   "outputs": [],
   "source": [
    "df.to_csv('../../data/processed/cleaned_parenting_styles.csv', index=False)"
   ]
  }
 ],
 "metadata": {
  "kernelspec": {
   "display_name": "base",
   "language": "python",
   "name": "python3"
  },
  "language_info": {
   "codemirror_mode": {
    "name": "ipython",
    "version": 3
   },
   "file_extension": ".py",
   "mimetype": "text/x-python",
   "name": "python",
   "nbconvert_exporter": "python",
   "pygments_lexer": "ipython3",
   "version": "3.12.7"
  }
 },
 "nbformat": 4,
 "nbformat_minor": 5
}
